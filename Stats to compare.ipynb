{
 "cells": [
  {
   "cell_type": "code",
   "execution_count": null,
   "id": "06acf393",
   "metadata": {},
   "outputs": [],
   "source": [
    "import numpy as np\n",
    "import matplotlib.pyplot as plt"
   ]
  },
  {
   "cell_type": "code",
   "execution_count": null,
   "id": "790d67e9",
   "metadata": {},
   "outputs": [],
   "source": [
    "probabilities = [0.001, 0.01, 0.03, 0.05, 0.1, 0.2, 0.3, 0.5] \n",
    "time_sim = np.array([2522.4522, 256.9448, 86.961, 53.8051, 28.559, 15.6066, 11.2794, 7.8304])\n",
    "time_nonsim = np.array([3127.8457, 296.2557, 92.3237, 57.0947, 27.1329, 14.0082, 10.0767, 7.0904])\n",
    "simVSnon_sim_time = time_sim/time_nonsim\n",
    "simVSnon_sim_time"
   ]
  },
  {
   "cell_type": "code",
   "execution_count": null,
   "id": "c0613989",
   "metadata": {
    "scrolled": true
   },
   "outputs": [],
   "source": [
    "# fig, ax = plt.subplots(figsize=[9,7])\n",
    "# ax.plot(probabilities, nonsimVSsim_time, label='Non-Simultaneous Random Events/Simultaneous Random Events')\n",
    "# ax.set_title('Time of coexistence for Non-Simultaneous Random Events/Simultaneous Random Events')\n",
    "# ax.set_xlabel('probability',fontsize='xx-large')\n",
    "# ax.set_ylabel(\"Ratio of time of coexistence\",fontsize='xx-large')\n",
    "# ax.tick_params(labelsize='xx-large')\n",
    "# ax.legend(fontsize='large')\n",
    "fig, ax = plt.subplots(figsize=[8,6])\n",
    "ax.plot(probabilities, time_sim, 'purple', label='Simultaneous')\n",
    "ax.plot(probabilities, time_nonsim, 'cyan', label='Uncorrelated')\n",
    "ax.plot(probabilities, simVSnon_sim_time, 'k', label='Ratio')\n",
    "ax.set_xlabel('p',fontsize=26)\n",
    "ax.set_ylabel(\"Time of coexistence\",fontsize=26)\n",
    "ax.set_yscale('log')\n",
    "ax.tick_params(labelsize=26)\n",
    "ax.legend(fontsize='xx-large')\n",
    "#ax.grid()\n",
    "ax.set_ylim([0.101,10**4])\n",
    "ax.set_xlim([0,0.5]);\n",
    "#fig.savefig('Figure 3 coexistence time LAST4SUB.pdf');"
   ]
  },
  {
   "cell_type": "code",
   "execution_count": null,
   "id": "f0c035c0",
   "metadata": {},
   "outputs": [],
   "source": [
    "fig, ax = plt.subplots(figsize=[9,7])\n",
    "ax.plot(probabilities, simVSnon_sim_time, label='Simultaneous/Uncorrelated')\n",
    "ax.set_xlabel('probability',fontsize=26)\n",
    "ax.set_ylabel(\"Ratio of time of coexistence\",fontsize=26)\n",
    "ax.tick_params(labelsize=26)\n",
    "ax.legend(fontsize='xx-large')\n",
    "#ax.set_ylim([0,1])\n",
    "ax.set_xlim([0,0.5]);"
   ]
  },
  {
   "cell_type": "code",
   "execution_count": null,
   "id": "528f8093",
   "metadata": {},
   "outputs": [],
   "source": [
    "probabilities = [0.001, 0.01, 0.03, 0.05, 0.1, 0.2, 0.3, 0.5]\n",
    "common_growth_sim = np.array([7.67630417, 7.45495232, 7.06461815, 6.29572119, 5.71336592, 4.78010549, 3.98809806, 2.84179378])\n",
    "common_growth_nonsim= np.array([0.0088908, 5.50910629e-02, 0.14118244, 0.21788439, 5.20858437e-01, 8.81155610e-01, 1.09604680e+00, 1.19036521e+00])\n",
    "nonsimVSsim_common_growth = common_growth_nonsim/common_growth_sim\n",
    "simVSnonsim_common_growth = common_growth_sim/common_growth_nonsim\n",
    "nonsimVSsim_common_growth"
   ]
  },
  {
   "cell_type": "code",
   "execution_count": null,
   "id": "a819f61d",
   "metadata": {},
   "outputs": [],
   "source": [
    "fig, ax = plt.subplots(figsize=[9,7])\n",
    "ax.plot(probabilities, nonsimVSsim_common_growth, label='Non-Simultaneous Random Events/Simultaneous Random Events')\n",
    "ax.set_title('Common growth for Non-Simultaneous Random Events/Simultaneous Random Events')\n",
    "ax.set_xlabel('probability',fontsize='xx-large')\n",
    "ax.set_ylabel(\"Ratio of common growth\",fontsize='xx-large')\n",
    "ax.tick_params(labelsize='xx-large')\n",
    "ax.legend(fontsize='large')\n",
    "#fig.savefig('Ratio of common growth.png');"
   ]
  },
  {
   "cell_type": "code",
   "execution_count": null,
   "id": "a5c9d42a",
   "metadata": {},
   "outputs": [],
   "source": [
    "fig, ax = plt.subplots(figsize=[9,7])\n",
    "ax.plot(probabilities, simVSnonsim_common_growth, label='Simultaneous Random Events/Non-Simultaneous Random Events')\n",
    "ax.set_title('Common growth for Simultaneous Random Events/Non-Simultaneous Random Events')\n",
    "ax.set_xlabel('probability',fontsize='xx-large')\n",
    "ax.set_ylabel(\"Ratio of common growth\",fontsize='xx-large')\n",
    "ax.tick_params(labelsize='xx-large')\n",
    "ax.legend(fontsize='large');\n",
    "#fig.savefig('Ratio of common growth-Reverse.png');"
   ]
  },
  {
   "cell_type": "code",
   "execution_count": null,
   "id": "219d3fd9",
   "metadata": {},
   "outputs": [],
   "source": [
    "probabilities = [0.001, 0.01, 0.03, 0.05, 0.1, 0.2, 0.3, 0.5]\n",
    "peace_sim = np.array([91.1220172, 84.9369659, 75.96149357, 69.40261612, 56.29705295, 39.08659548, 28.64607876, 15.77309803])\n",
    "peace_nonsim = np.array([98.01775137, 87.7036446, 74.03960979, 63.76823764, 47.40574268, 28.99831988, 18.92939031, 9.91788765])\n",
    "nonsimVSsim_peace = peace_nonsim/peace_sim\n",
    "nonsimVSsim_peace"
   ]
  },
  {
   "cell_type": "code",
   "execution_count": null,
   "id": "d4d14a1e",
   "metadata": {},
   "outputs": [],
   "source": [
    "fig, ax = plt.subplots(figsize=[9,7])\n",
    "ax.plot(probabilities, nonsimVSsim_peace, label='Non-Simultaneous Random Events/Simultaneous Random Events')\n",
    "ax.set_title('Peace for Non-Simultaneous Random Events/Simultaneous Random Events')\n",
    "ax.set_xlabel('probability',fontsize='xx-large')\n",
    "ax.set_ylabel(\"Ratio of peace\",fontsize='xx-large')\n",
    "ax.tick_params(labelsize='xx-large')\n",
    "ax.legend(fontsize='large');\n",
    "#fig.savefig('Ratio of peace.png');"
   ]
  },
  {
   "cell_type": "code",
   "execution_count": null,
   "id": "8fb5a5cc",
   "metadata": {},
   "outputs": [],
   "source": [
    "probabilities = [0.001, 0.01, 0.03, 0.05, 0.1, 0.2, 0.3, 0.5]\n",
    "war_sim = np.array([1.20167863, 7.60808178, 16.97388828, 24.30166269, 37.98958113, 56.13329903, 67.36582317, 81.38510818])\n",
    "war_nonsim = np.array([1.97335784, 12.24126433, 25.81920777, 36.01065051, 52.07339888, 70.12052451, 79.97456289, 88.89174713])\n",
    "nonsimVSsim_war = war_nonsim/war_sim\n",
    "nonsimVSsim_war"
   ]
  },
  {
   "cell_type": "code",
   "execution_count": null,
   "id": "73bccb8d",
   "metadata": {
    "scrolled": true
   },
   "outputs": [],
   "source": [
    "fig, ax = plt.subplots(figsize=[9,7])\n",
    "ax.plot(probabilities, nonsimVSsim_war, label='Non-Simultaneous Random Events/Simultaneous Random Events')\n",
    "ax.set_title('War for Non-Simultaneous Random Events/Simultaneous Random Events')\n",
    "ax.set_xlabel('probability',fontsize='xx-large')\n",
    "ax.set_ylabel(\"Ratio of war\",fontsize='xx-large')\n",
    "ax.tick_params(labelsize='xx-large')\n",
    "ax.legend(fontsize='large');\n",
    "#fig.savefig('Ratio of war.png');"
   ]
  },
  {
   "cell_type": "code",
   "execution_count": null,
   "id": "49b2d94a",
   "metadata": {},
   "outputs": [],
   "source": [
    "probabilities = [0.001, 0.01, 0.03, 0.05, 0.1, 0.2, 0.3, 0.5] \n",
    "mean_inc_sim = np.array([58.5205717, 9.80804985, 6.23388401, 5.37858828, 4.91089474, 4.65376518, 4.60043945, 4.58525503])\n",
    "mean_inc_nonsim = np.array([4.3609993, 4.35093066, 4.31482528, 4.30594606, 4.32206277, 4.37709573, 4.42574484, 4.50428462])\n",
    "nonsimVSsim_mean_inc = mean_inc_nonsim/mean_inc_sim\n",
    "simVSnonsim_mean_inc = mean_inc_sim/mean_inc_nonsim\n",
    "print(nonsimVSsim_mean_inc)\n",
    "\n",
    "max_inc_sim = np.array([236.12898481, 30.00455135, 15.124435, 11.90503924, 9.95939706, 9.0406971, 8.82443971, 8.7710052])\n",
    "max_inc_nonsim = np.array([8.36200648, 8.35131059, 8.33596687, 8.32874747, 8.39072921, 8.44941193, 8.5241411, 8.65039891])\n",
    "nonsimVSsim_max_inc = max_inc_nonsim/max_inc_sim\n",
    "simVSnonsim_max_inc = max_inc_sim/max_inc_nonsim\n",
    "print(nonsimVSsim_max_inc)"
   ]
  },
  {
   "cell_type": "code",
   "execution_count": null,
   "id": "33fa709a",
   "metadata": {},
   "outputs": [],
   "source": [
    "fig, ax = plt.subplots(figsize=[9,7])\n",
    "ax.plot(probabilities, nonsimVSsim_mean_inc, label='Mean income')\n",
    "ax.plot(probabilities, nonsimVSsim_max_inc, label='Max income')\n",
    "ax.set_title('Income for Non-Simultaneous Random Events/Simultaneous Random Events')\n",
    "ax.set_xlabel('probability',fontsize='xx-large')\n",
    "ax.set_ylabel(\"Ratio of income\",fontsize='xx-large')\n",
    "ax.tick_params(labelsize='xx-large')\n",
    "ax.legend(fontsize='large');\n",
    "#fig.savefig('Ratio of income.png');"
   ]
  },
  {
   "cell_type": "code",
   "execution_count": null,
   "id": "1c67b916",
   "metadata": {},
   "outputs": [],
   "source": [
    "fig, ax = plt.subplots(figsize=[8.8,5.85])\n",
    "#ax.plot(probabilities, max_inc_sim, 'pink', label='Max Simultaneous')\n",
    "ax.plot(probabilities, mean_inc_sim, 'm', label='Simultaneous')\n",
    "line1, = ax.plot(probabilities, mean_inc_sim, 'm', label='Simultaneous')\n",
    "#ax.plot(probabilities, max_inc_nonsim, 'cyan', label='Max Uncorrelated')\n",
    "ax.plot(probabilities, mean_inc_nonsim, 'b', label='Uncorrelated')\n",
    "line2, = ax.plot(probabilities, mean_inc_nonsim, 'b', label='Uncorrelated')\n",
    "#ax.plot(probabilities, simVSnonsim_max_inc, 'grey', label='Max Simultaneous/Uncorrelated')\n",
    "#ax.plot(probabilities, simVSnonsim_mean_inc, 'k', label='Ratio')\n",
    "#ax.set_title('Income for Simultaneous Random Events/Non-Simultaneous Random Events')\n",
    "ax.set_xlabel('p',fontsize=26)\n",
    "ax.set_ylabel(\"Mean Income\",fontsize=26)\n",
    "ax.tick_params(labelsize=26)\n",
    "ax.set_yscale('log')\n",
    "ax.set_ylim([0.101,10**3])\n",
    "ax.set_xlim([0,0.5]);\n",
    "#ax.legend();\n",
    "\n",
    "ax2 = ax.twinx()\n",
    "ax2.plot(probabilities, simVSnonsim_common_growth, 'k', linestyle='dashed', label='Cooperation ratio')\n",
    "line3, = ax2.plot(probabilities, simVSnonsim_common_growth, 'k', linestyle='dashed', label='Cooperation ratio')\n",
    "ax2.set_yscale('log')\n",
    "ax2.set_ylim([0.101,10**3])\n",
    "ax2.tick_params(labelsize=26)\n",
    "ax2.set_ylabel(\"Cooperation ratio\", fontsize=26)\n",
    "plt.legend([line1, line2, line3], [\"Simultaneous\", 'Uncorrelated', \"Cooperation ratio\"],fontsize='xx-large')\n",
    "ax2.set_xlim([0,0.5]);\n",
    "fig.tight_layout();\n",
    "#fig.savefig('Figure 3 Income LAST4SUB.pdf');"
   ]
  },
  {
   "cell_type": "markdown",
   "id": "7f32fb29",
   "metadata": {},
   "source": [
    "## Comparison of Fully Competitive "
   ]
  },
  {
   "cell_type": "code",
   "execution_count": null,
   "id": "024849b4",
   "metadata": {},
   "outputs": [],
   "source": [
    "Nonsim_peace_min = 8.4\n",
    "Nonsim_peace_max = 14.8\n",
    "Nonsim_war_min = 85.1\n",
    "Nonsim_war_max = 90.5\n",
    "Nonsim_p_max = 0.5\n",
    "Nonsim_p_min = 0.05\n",
    "\n",
    "Nonsim_common_growth_min = 0 #until p = 0.05\n",
    "Nonsim_common_growth_max = 1 # p = 0.5\n",
    "\n",
    "Nonsim_time_min = 26.6 # p = 0.001\n",
    "Nonsim_time_max = 34.6 # but relative constant around 30"
   ]
  },
  {
   "cell_type": "code",
   "execution_count": null,
   "id": "b86d9581",
   "metadata": {},
   "outputs": [],
   "source": [
    "Sim_peace_min = 8.2\n",
    "Sim_peace_max =  11.4\n",
    "Sim_war_min = 87.2\n",
    "Sim_war_max = 90.5\n",
    "Sim_p_max = 0.5\n",
    "Sim_p_min = 0.1\n",
    "\n",
    "Sim_common_growth_min = 0.05 #p = 0.001\n",
    "Sim_common_growth_max = 1.5 # p = 0.2\n",
    "\n",
    "Sim_time_min = 24.5 # p = 0.001\n",
    "Sim_time_max = 30.5 # but relative constant around 30"
   ]
  },
  {
   "cell_type": "markdown",
   "id": "32805c9d",
   "metadata": {},
   "source": [
    "# Simultaneous"
   ]
  },
  {
   "cell_type": "code",
   "execution_count": null,
   "id": "5b1b1139",
   "metadata": {},
   "outputs": [],
   "source": [
    "Both_Content = 100*np.array([0.4849, 0.4913, 0.4956, 0.5016, 0.5159, 0.5237, 0.5478, 0.5866])\n",
    "Both_Competitive = 100*np.array([0.9989, 0.9846, 0.9531, 0.9293, 0.861, 0.7459, 0.6768, 0.6269])\n",
    "A_Competitive = 100*np.array([0.0008, 0.0112, 0.0379, 0.0598, 0.1294, 0.2387, 0.3498, 0.4995])\n",
    "B_Competitive = 100*np.array([0.9994, 0.9931, 0.9805, 0.9658, 0.927, 0.845, 0.7753, 0.6914])\n",
    "P = [0.001, 0.01, 0.03, 0.05, 0.1, 0.2, 0.3, 0.5]"
   ]
  },
  {
   "cell_type": "code",
   "execution_count": null,
   "id": "9e990306",
   "metadata": {},
   "outputs": [],
   "source": [
    "fig, ax = plt.subplots(figsize=[8,6])\n",
    "ax.plot(P, Both_Content, label='Both content', color='k')\n",
    "ax.plot(P, Both_Competitive, label='Both competitive', color='r')\n",
    "ax.plot(P, A_Competitive, label='A Competitive')\n",
    "ax.plot(P, B_Competitive, label='B Competitive')\n",
    "ax.set_xlabel('p',fontsize=26)\n",
    "ax.set_ylabel(\"A loses (%)\",fontsize=26)\n",
    "ax.tick_params(labelsize=26)\n",
    "ax.legend(fontsize=17)\n",
    "ax.set_ylim([0,100])\n",
    "ax.set_xlim([0,0.5])\n",
    "labels = ['0','0.1','0.2','0.3','0.4','0.5']\n",
    "x = [0.0,0.1,0.2,0.3,0.4,0.5]\n",
    "plt.xticks(x,labels);\n",
    "fig.tight_layout();\n",
    "#fig.savefig('LAST4SUB - Figure 4 A loses sim.pdf');"
   ]
  },
  {
   "cell_type": "code",
   "execution_count": null,
   "id": "2cc82c00",
   "metadata": {},
   "outputs": [],
   "source": [
    "both_content_inc = np.array([58.5205717, 9.80804985, 6.23388401, 5.37858828, 4.91089474, 4.65376518, 4.60043945, 4.58525503])\n",
    "both_competitive_inc = np.array([4.166362, 4.1883016, 4.18619574, 4.18159899, 4.16936943, 4.20912667, 4.29355152, 4.43182816])\n",
    "A_competitive_inc = np.array([4.24532314, 4.25635031, 4.2484358, 4.25937172, 4.27976454, 4.30240378, 4.38845811, 4.49725799])\n",
    "B_competitive_inc = np.array([4.1987251, 4.19040187, 4.19787309, 4.18110505, 4.17500209, 4.2308655, 4.30612994, 4.4531976 ])"
   ]
  },
  {
   "cell_type": "code",
   "execution_count": null,
   "id": "9044468c",
   "metadata": {},
   "outputs": [],
   "source": [
    "fig, ax = plt.subplots(figsize=[8,6])\n",
    "ax.plot(P, both_content_inc, label='Both content', color='k')\n",
    "ax.plot(P, both_competitive_inc, label='Both competitive', color='r')\n",
    "ax.plot(P, A_competitive_inc, label='A Competitive')\n",
    "ax.plot(P, B_competitive_inc, label='B Competitive')\n",
    "ax.set_xlabel('p',fontsize=26)\n",
    "ax.set_ylabel(\"Mean Income of Winner\",fontsize=26)\n",
    "ax.tick_params(labelsize=26)\n",
    "ax.legend(fontsize=17)\n",
    "#ax.set_ylim([0,100])\n",
    "ax.set_xlim([0,0.5])\n",
    "ax.set_yscale('log')\n",
    "ax.set_ylim([0.101,10**3])\n",
    "labels = ['0','0.1','0.2','0.3','0.4','0.5']\n",
    "x = [0.0,0.1,0.2,0.3,0.4,0.5]\n",
    "plt.xticks(x,labels);\n",
    "fig.tight_layout();\n",
    "#fig.savefig('LAST4SUB - Figure 4 Income of winner sim.pdf');"
   ]
  },
  {
   "cell_type": "markdown",
   "id": "0af1554a",
   "metadata": {},
   "source": [
    "# Uncorrelated"
   ]
  },
  {
   "cell_type": "code",
   "execution_count": null,
   "id": "5a80dc9f",
   "metadata": {},
   "outputs": [],
   "source": [
    "Both_Content = 100*np.array([0.4964, 0.5033, 0.4999, 0.4959, 0.5173, 0.5249, 0.5527, 0.5875])\n",
    "Both_Competitive = 100*np.array([0.9989, 0.9839, 0.9481, 0.9212, 0.8429, 0.7404, 0.6878, 0.6362])\n",
    "A_Competitive = 100*np.array([0.0016, 0.0121, 0.0409, 0.0721, 0.1463, 0.2835, 0.3795, 0.5119])\n",
    "B_Competitive = 100*np.array([0.9994, 0.991, 0.9762, 0.9545, 0.9106, 0.8173, 0.76, 0.6906])\n",
    "P = [0.001, 0.01, 0.03, 0.05, 0.1, 0.2, 0.3, 0.5]"
   ]
  },
  {
   "cell_type": "code",
   "execution_count": null,
   "id": "e18315b6",
   "metadata": {},
   "outputs": [],
   "source": [
    "fig, ax = plt.subplots(figsize=[8,6])\n",
    "ax.plot(P, Both_Content, label='Both content', color='k')\n",
    "ax.plot(P, Both_Competitive, label='Both competitive', color='r')\n",
    "ax.plot(P, A_Competitive, label='A Competitive')\n",
    "ax.plot(P, B_Competitive, label='B Competitive')\n",
    "ax.set_xlabel('p',fontsize=26)\n",
    "ax.set_ylabel(\"A loses (%)\",fontsize=26)\n",
    "ax.tick_params(labelsize=26)\n",
    "ax.legend(fontsize=17)\n",
    "ax.set_ylim([0,100])\n",
    "ax.set_xlim([0,0.5])\n",
    "labels = ['0','0.1','0.2','0.3','0.4','0.5']\n",
    "x = [0.0,0.1,0.2,0.3,0.4,0.5]\n",
    "plt.xticks(x,labels);\n",
    "fig.tight_layout();\n",
    "#fig.savefig('Figure 4 A loses uncorr - LAST4SUB.pdf');"
   ]
  },
  {
   "cell_type": "code",
   "execution_count": null,
   "id": "1515c63c",
   "metadata": {},
   "outputs": [],
   "source": [
    "both_content_inc = np.array([4.49691587, 4.35372676, 4.32572494, 4.31567787, 4.31713176, 4.37291707, 4.42608742, 4.50646344])\n",
    "both_competitive_inc = np.array([4.1468224 , 4.11410992, 4.06514928, 4.01151111, 3.99848258, 4.110301, 4.24747715, 4.42066901])\n",
    "A_competitive_inc = np.array([4.20173805, 4.18834454, 4.17151422, 4.15742733, 4.15789946, 4.23332496, 4.32783194, 4.46955719])\n",
    "B_competitive_inc = np.array([4.1507149, 4.13077174, 4.1023692, 4.08098067, 4.0796848 , 4.15990531, 4.27071859, 4.438333])"
   ]
  },
  {
   "cell_type": "code",
   "execution_count": null,
   "id": "2aff6399",
   "metadata": {},
   "outputs": [],
   "source": [
    "fig, ax = plt.subplots(figsize=[8,6])\n",
    "ax.plot(P, both_content_inc, label='Both content', color='k')\n",
    "ax.plot(P, both_competitive_inc, label='Both competitive', color='r')\n",
    "ax.plot(P, A_competitive_inc, label='A Competitive')\n",
    "ax.plot(P, B_competitive_inc, label='B Competitive')\n",
    "ax.set_xlabel('p',fontsize=26)\n",
    "ax.set_ylabel(\"Mean Income of Winner\",fontsize=26)\n",
    "ax.tick_params(labelsize=26)\n",
    "ax.legend(fontsize=17)\n",
    "#ax.set_ylim([0,100])\n",
    "ax.set_xlim([0,0.5])\n",
    "ax.set_yscale('log')\n",
    "ax.set_ylim([0.101,10**3])\n",
    "labels = ['0','0.1','0.2','0.3','0.4','0.5']\n",
    "x = [0.0,0.1,0.2,0.3,0.4,0.5]\n",
    "plt.xticks(x,labels);\n",
    "fig.tight_layout();\n",
    "#fig.savefig('Figure 4 Income of winner uncorr - LAST4SUB.pdf');"
   ]
  },
  {
   "cell_type": "code",
   "execution_count": null,
   "id": "da85d844",
   "metadata": {},
   "outputs": [],
   "source": []
  }
 ],
 "metadata": {
  "kernelspec": {
   "display_name": "Python 3",
   "language": "python",
   "name": "python3"
  },
  "language_info": {
   "codemirror_mode": {
    "name": "ipython",
    "version": 3
   },
   "file_extension": ".py",
   "mimetype": "text/x-python",
   "name": "python",
   "nbconvert_exporter": "python",
   "pygments_lexer": "ipython3",
   "version": "3.8.8"
  }
 },
 "nbformat": 4,
 "nbformat_minor": 5
}
